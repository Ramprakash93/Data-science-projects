{
 "cells": [
  {
   "cell_type": "markdown",
   "id": "54b38941-4fb7-4faf-9524-3cd36e7faad0",
   "metadata": {},
   "source": [
    "# Data Science Tools and Ecosystem"
   ]
  },
  {
   "cell_type": "markdown",
   "id": "2a4ea741-64b3-4ebd-9000-7fab5902f85e",
   "metadata": {},
   "source": [
    "In this notebook, Data Science Tools and Ecosystem are summarized.\n"
   ]
  },
  {
   "cell_type": "markdown",
   "id": "8a137b73-f8a2-4703-b90c-d904aea5a189",
   "metadata": {},
   "source": [
    "**Objectives:**\n",
    "- Popular languages used in data science\n",
    "- Commonly used libraries in Data Science\n",
    "- Creation of table in Jupyter notebook"
   ]
  },
  {
   "cell_type": "markdown",
   "id": "a4947046-81fd-472a-8609-f62f88fee839",
   "metadata": {},
   "source": [
    "Some of the popular languages that Data Scientists use are:\n",
    "1. Python\n",
    "2. Rstudio\n",
    "3. Java\n",
    "4. SQL\n",
    "5. C++"
   ]
  },
  {
   "cell_type": "markdown",
   "id": "08d7894b-a3d0-4794-84bb-61fe16d3be58",
   "metadata": {},
   "source": [
    "Some of the commonly used libraries used by Data Scientists include:\n",
    "1. Numpy\n",
    "2. Matplotlib\n",
    "3. Scikit-learn\n",
    "4. Seaborn"
   ]
  },
  {
   "cell_type": "markdown",
   "id": "1d05b2c5-1ef6-407f-8841-7ef49afe41db",
   "metadata": {},
   "source": [
    "| Data Science Tools |\n",
    "| :---: |\n",
    "| Jupyter Notebook |\n",
    "| VS code |\n",
    "| R studio |\n",
    "\n",
    "\n"
   ]
  },
  {
   "cell_type": "markdown",
   "id": "bd5ba6de-dc83-4e33-bfe9-683ab4d85ceb",
   "metadata": {},
   "source": [
    "### Below are a few examples of evaluating arithmetic expressions in Python"
   ]
  },
  {
   "cell_type": "code",
   "execution_count": 4,
   "id": "65c926c5-3d80-41bf-b0c1-07e3c79d6161",
   "metadata": {},
   "outputs": [
    {
     "data": {
      "text/plain": [
       "17"
      ]
     },
     "execution_count": 4,
     "metadata": {},
     "output_type": "execute_result"
    }
   ],
   "source": [
    "#This a simple arithmetic expression to mutiply then add integers\n",
    "(3*4)+5"
   ]
  },
  {
   "cell_type": "code",
   "execution_count": 6,
   "id": "47257057-718b-4ad9-836f-9811ecbff0d6",
   "metadata": {},
   "outputs": [
    {
     "data": {
      "text/plain": [
       "3.3333333333333335"
      ]
     },
     "execution_count": 6,
     "metadata": {},
     "output_type": "execute_result"
    }
   ],
   "source": [
    "# This will convert 200 minutes to hours by diving by 60\n",
    "200/60"
   ]
  },
  {
   "cell_type": "markdown",
   "id": "a38ab75e-36ff-4f17-a68b-e688eb350e8b",
   "metadata": {},
   "source": [
    "## Author\n",
    "Ramprakash Krishnamurthy"
   ]
  },
  {
   "cell_type": "code",
   "execution_count": null,
   "id": "33c67808-8dbd-41d0-9930-1ad34eaa45b8",
   "metadata": {},
   "outputs": [],
   "source": []
  }
 ],
 "metadata": {
  "kernelspec": {
   "display_name": "Python [conda env:base] *",
   "language": "python",
   "name": "conda-base-py"
  },
  "language_info": {
   "codemirror_mode": {
    "name": "ipython",
    "version": 3
   },
   "file_extension": ".py",
   "mimetype": "text/x-python",
   "name": "python",
   "nbconvert_exporter": "python",
   "pygments_lexer": "ipython3",
   "version": "3.12.7"
  }
 },
 "nbformat": 4,
 "nbformat_minor": 5
}
